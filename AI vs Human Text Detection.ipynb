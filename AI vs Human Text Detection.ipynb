{
 "cells": [
  {
   "cell_type": "code",
   "execution_count": 1,
   "id": "473837c5",
   "metadata": {
    "_cell_guid": "b1076dfc-b9ad-4769-8c92-a6c4dae69d19",
    "_uuid": "8f2839f25d086af736a60e9eeb907d3b93b6e0e5",
    "execution": {
     "iopub.execute_input": "2024-01-11T12:38:39.322073Z",
     "iopub.status.busy": "2024-01-11T12:38:39.321617Z",
     "iopub.status.idle": "2024-01-11T12:38:41.776589Z",
     "shell.execute_reply": "2024-01-11T12:38:41.775254Z"
    },
    "papermill": {
     "duration": 2.466425,
     "end_time": "2024-01-11T12:38:41.779265",
     "exception": false,
     "start_time": "2024-01-11T12:38:39.312840",
     "status": "completed"
    },
    "tags": []
   },
   "outputs": [
    {
     "name": "stdout",
     "output_type": "stream",
     "text": [
      "/kaggle/input/daigt-v2-train-dataset/train_v2_drcat_02.csv\n",
      "/kaggle/input/dataiku/SRD.csv\n",
      "/kaggle/input/llm-detect-ai-generated-text/sample_submission.csv\n",
      "/kaggle/input/llm-detect-ai-generated-text/train_prompts.csv\n",
      "/kaggle/input/llm-detect-ai-generated-text/test_essays.csv\n",
      "/kaggle/input/llm-detect-ai-generated-text/train_essays.csv\n"
     ]
    }
   ],
   "source": [
    "# This Python 3 environment comes with many helpful analytics libraries installed\n",
    "# It is defined by the kaggle/python Docker image: https://github.com/kaggle/docker-python\n",
    "# For example, here's several helpful packages to load\n",
    "\n",
    "import numpy as np # linear algebra\n",
    "import pandas as pd # data processing, CSV file I/O (e.g. pd.read_csv)\n",
    "from sklearn.model_selection import train_test_split\n",
    "from sklearn.model_selection import KFold\n",
    "from sklearn.model_selection import cross_val_score\n",
    "from sklearn.linear_model import LogisticRegression\n",
    "from sklearn.feature_extraction.text import TfidfVectorizer\n",
    "from sklearn.metrics import accuracy_score, classification_report\n",
    "from sklearn.metrics import roc_auc_score, roc_curve\n",
    "import matplotlib.pyplot as plt\n",
    "\n",
    "\n",
    "\n",
    "\n",
    "# Input data files are available in the read-only \"../input/\" directory\n",
    "# For example, running this (by clicking run or pressing Shift+Enter) will list all files under the input directory\n",
    "\n",
    "import os\n",
    "for dirname, _, filenames in os.walk('/kaggle/input'):\n",
    "    for filename in filenames:\n",
    "        print(os.path.join(dirname, filename))\n",
    "\n",
    "# You can write up to 20GB to the current directory (/kaggle/working/) that gets preserved as output when you create a version using \"Save & Run All\" \n",
    "# You can also write temporary files to /kaggle/temp/, but they won't be saved outside of the current session"
   ]
  },
  {
   "cell_type": "code",
   "execution_count": 2,
   "id": "a4622d73",
   "metadata": {
    "execution": {
     "iopub.execute_input": "2024-01-11T12:38:41.793224Z",
     "iopub.status.busy": "2024-01-11T12:38:41.792637Z",
     "iopub.status.idle": "2024-01-11T12:38:44.342490Z",
     "shell.execute_reply": "2024-01-11T12:38:44.341321Z"
    },
    "papermill": {
     "duration": 2.560373,
     "end_time": "2024-01-11T12:38:44.345742",
     "exception": false,
     "start_time": "2024-01-11T12:38:41.785369",
     "status": "completed"
    },
    "tags": []
   },
   "outputs": [
    {
     "name": "stdout",
     "output_type": "stream",
     "text": [
      "         id  prompt_id                                               text  \\\n",
      "0  0059830c          0  Cars. Cars have been around since they became ...   \n",
      "1  005db917          0  Transportation is a large necessity in most co...   \n",
      "2  008f63e3          0  \"America's love affair with it's vehicles seem...   \n",
      "3  00940276          0  How often do you ride in a car? Do you drive a...   \n",
      "4  00c39458          0  Cars are a wonderful thing. They are perhaps o...   \n",
      "\n",
      "   generated  \n",
      "0          0  \n",
      "1          0  \n",
      "2          0  \n",
      "3          0  \n",
      "4          0  \n"
     ]
    },
    {
     "data": {
      "text/html": [
       "<div>\n",
       "<style scoped>\n",
       "    .dataframe tbody tr th:only-of-type {\n",
       "        vertical-align: middle;\n",
       "    }\n",
       "\n",
       "    .dataframe tbody tr th {\n",
       "        vertical-align: top;\n",
       "    }\n",
       "\n",
       "    .dataframe thead th {\n",
       "        text-align: right;\n",
       "    }\n",
       "</style>\n",
       "<table border=\"1\" class=\"dataframe\">\n",
       "  <thead>\n",
       "    <tr style=\"text-align: right;\">\n",
       "      <th></th>\n",
       "      <th>text</th>\n",
       "      <th>label</th>\n",
       "      <th>prompt_name</th>\n",
       "      <th>source</th>\n",
       "      <th>RDizzl3_seven</th>\n",
       "    </tr>\n",
       "  </thead>\n",
       "  <tbody>\n",
       "    <tr>\n",
       "      <th>0</th>\n",
       "      <td>Phones\\n\\nModern humans today are always on th...</td>\n",
       "      <td>0</td>\n",
       "      <td>Phones and driving</td>\n",
       "      <td>persuade_corpus</td>\n",
       "      <td>False</td>\n",
       "    </tr>\n",
       "    <tr>\n",
       "      <th>1</th>\n",
       "      <td>This essay will explain if drivers should or s...</td>\n",
       "      <td>0</td>\n",
       "      <td>Phones and driving</td>\n",
       "      <td>persuade_corpus</td>\n",
       "      <td>False</td>\n",
       "    </tr>\n",
       "    <tr>\n",
       "      <th>2</th>\n",
       "      <td>Driving while the use of cellular devices\\n\\nT...</td>\n",
       "      <td>0</td>\n",
       "      <td>Phones and driving</td>\n",
       "      <td>persuade_corpus</td>\n",
       "      <td>False</td>\n",
       "    </tr>\n",
       "    <tr>\n",
       "      <th>3</th>\n",
       "      <td>Phones &amp; Driving\\n\\nDrivers should not be able...</td>\n",
       "      <td>0</td>\n",
       "      <td>Phones and driving</td>\n",
       "      <td>persuade_corpus</td>\n",
       "      <td>False</td>\n",
       "    </tr>\n",
       "    <tr>\n",
       "      <th>4</th>\n",
       "      <td>Cell Phone Operation While Driving\\n\\nThe abil...</td>\n",
       "      <td>0</td>\n",
       "      <td>Phones and driving</td>\n",
       "      <td>persuade_corpus</td>\n",
       "      <td>False</td>\n",
       "    </tr>\n",
       "  </tbody>\n",
       "</table>\n",
       "</div>"
      ],
      "text/plain": [
       "                                                text  label  \\\n",
       "0  Phones\\n\\nModern humans today are always on th...      0   \n",
       "1  This essay will explain if drivers should or s...      0   \n",
       "2  Driving while the use of cellular devices\\n\\nT...      0   \n",
       "3  Phones & Driving\\n\\nDrivers should not be able...      0   \n",
       "4  Cell Phone Operation While Driving\\n\\nThe abil...      0   \n",
       "\n",
       "          prompt_name           source  RDizzl3_seven  \n",
       "0  Phones and driving  persuade_corpus          False  \n",
       "1  Phones and driving  persuade_corpus          False  \n",
       "2  Phones and driving  persuade_corpus          False  \n",
       "3  Phones and driving  persuade_corpus          False  \n",
       "4  Phones and driving  persuade_corpus          False  "
      ]
     },
     "execution_count": 2,
     "metadata": {},
     "output_type": "execute_result"
    }
   ],
   "source": [
    "df1 = pd.read_csv('/kaggle/input/llm-detect-ai-generated-text/train_essays.csv')\n",
    "print(df1.head())\n",
    "test_essay_file = \"/kaggle/input/llm-detect-ai-generated-text/test_essays.csv\"\n",
    "df_test_essay = pd.read_csv(test_essay_file)\n",
    "train_essay_ex_file = \"/kaggle/input/daigt-v2-train-dataset/train_v2_drcat_02.csv\"\n",
    "df_train_essay_ex = pd.read_csv(train_essay_ex_file)\n",
    "df_train_essay_ex.head()\n",
    "\n"
   ]
  },
  {
   "cell_type": "code",
   "execution_count": 3,
   "id": "ac09d291",
   "metadata": {
    "execution": {
     "iopub.execute_input": "2024-01-11T12:38:44.364655Z",
     "iopub.status.busy": "2024-01-11T12:38:44.363150Z",
     "iopub.status.idle": "2024-01-11T12:38:44.392172Z",
     "shell.execute_reply": "2024-01-11T12:38:44.390589Z"
    },
    "papermill": {
     "duration": 0.041152,
     "end_time": "2024-01-11T12:38:44.395066",
     "exception": false,
     "start_time": "2024-01-11T12:38:44.353914",
     "status": "completed"
    },
    "tags": []
   },
   "outputs": [],
   "source": [
    "X_text = np.array(df1['text'])\n",
    "y = np.array(df1['generated'])\n",
    "df_train_essay_ex.rename(columns = {\"label\":\"generated\"}, inplace=True)\n",
    "df_train = pd.concat([df_train_essay_ex[[\"text\", \"generated\"]],\n",
    "                                   df1[[\"text\", \"generated\"]]])\n"
   ]
  },
  {
   "cell_type": "code",
   "execution_count": 4,
   "id": "c945c859",
   "metadata": {
    "execution": {
     "iopub.execute_input": "2024-01-11T12:38:44.410640Z",
     "iopub.status.busy": "2024-01-11T12:38:44.409351Z",
     "iopub.status.idle": "2024-01-11T12:38:44.428659Z",
     "shell.execute_reply": "2024-01-11T12:38:44.426370Z"
    },
    "papermill": {
     "duration": 0.030044,
     "end_time": "2024-01-11T12:38:44.431474",
     "exception": false,
     "start_time": "2024-01-11T12:38:44.401430",
     "status": "completed"
    },
    "tags": []
   },
   "outputs": [],
   "source": [
    "# Split the data into training and testing sets\n",
    "x, y = df_train['text'], df_train['generated']\n",
    "x_train,x_test,y_train,y_test=train_test_split(x,y,test_size=0.3,random_state=2529)\n",
    "\n"
   ]
  },
  {
   "cell_type": "code",
   "execution_count": 5,
   "id": "9e64eb55",
   "metadata": {
    "execution": {
     "iopub.execute_input": "2024-01-11T12:38:44.449175Z",
     "iopub.status.busy": "2024-01-11T12:38:44.447879Z",
     "iopub.status.idle": "2024-01-11T12:39:05.778568Z",
     "shell.execute_reply": "2024-01-11T12:39:05.777505Z"
    },
    "papermill": {
     "duration": 21.340889,
     "end_time": "2024-01-11T12:39:05.781136",
     "exception": false,
     "start_time": "2024-01-11T12:38:44.440247",
     "status": "completed"
    },
    "tags": []
   },
   "outputs": [],
   "source": [
    "# Initialize TF-IDF vectorizer\n",
    "tfidf_vectorizer = TfidfVectorizer()\n",
    "\n",
    "# Convert text data to TF-IDF features for training set\n",
    "X_train_tfidf = tfidf_vectorizer.fit_transform(x_train)\n",
    "\n",
    "# Convert text data to TF-IDF features for testing set\n",
    "X_test_tfidf = tfidf_vectorizer.transform(x_test)"
   ]
  },
  {
   "cell_type": "code",
   "execution_count": 6,
   "id": "abc410f2",
   "metadata": {
    "execution": {
     "iopub.execute_input": "2024-01-11T12:39:05.795266Z",
     "iopub.status.busy": "2024-01-11T12:39:05.794863Z",
     "iopub.status.idle": "2024-01-11T12:39:12.925058Z",
     "shell.execute_reply": "2024-01-11T12:39:12.922947Z"
    },
    "papermill": {
     "duration": 7.142404,
     "end_time": "2024-01-11T12:39:12.929836",
     "exception": false,
     "start_time": "2024-01-11T12:39:05.787432",
     "status": "completed"
    },
    "tags": []
   },
   "outputs": [],
   "source": [
    "# Initialize Logistic Regression model\n",
    "logistic_regression_model = LogisticRegression()\n",
    "\n",
    "# Train the model on the training set\n",
    "logistic_regression_model.fit(X_train_tfidf, y_train)\n",
    "\n",
    "# Make predictions on the testing set\n",
    "y_pred = logistic_regression_model.predict(X_test_tfidf)\n",
    "\n",
    "\n"
   ]
  },
  {
   "cell_type": "code",
   "execution_count": 7,
   "id": "415d24c6",
   "metadata": {
    "execution": {
     "iopub.execute_input": "2024-01-11T12:39:12.985653Z",
     "iopub.status.busy": "2024-01-11T12:39:12.984669Z",
     "iopub.status.idle": "2024-01-11T12:39:13.039268Z",
     "shell.execute_reply": "2024-01-11T12:39:13.037877Z"
    },
    "papermill": {
     "duration": 0.088705,
     "end_time": "2024-01-11T12:39:13.041746",
     "exception": false,
     "start_time": "2024-01-11T12:39:12.953041",
     "status": "completed"
    },
    "tags": []
   },
   "outputs": [
    {
     "name": "stdout",
     "output_type": "stream",
     "text": [
      "Accuracy: 0.991350727980395\n",
      "Classification Report:\n",
      "               precision    recall  f1-score   support\n",
      "\n",
      "           0       0.99      1.00      0.99      8680\n",
      "           1       1.00      0.98      0.99      5194\n",
      "\n",
      "    accuracy                           0.99     13874\n",
      "   macro avg       0.99      0.99      0.99     13874\n",
      "weighted avg       0.99      0.99      0.99     13874\n",
      "\n"
     ]
    }
   ],
   "source": [
    "# Evaluate the performance of the model\n",
    "accuracy = accuracy_score(y_test, y_pred)\n",
    "print(\"Accuracy:\", accuracy)\n",
    "\n",
    "# Display classification report\n",
    "print(\"Classification Report:\\n\", classification_report(y_test, y_pred))"
   ]
  },
  {
   "cell_type": "code",
   "execution_count": 8,
   "id": "0bd36711",
   "metadata": {
    "execution": {
     "iopub.execute_input": "2024-01-11T12:39:13.056043Z",
     "iopub.status.busy": "2024-01-11T12:39:13.055609Z",
     "iopub.status.idle": "2024-01-11T12:39:13.068591Z",
     "shell.execute_reply": "2024-01-11T12:39:13.067192Z"
    },
    "papermill": {
     "duration": 0.023463,
     "end_time": "2024-01-11T12:39:13.071452",
     "exception": false,
     "start_time": "2024-01-11T12:39:13.047989",
     "status": "completed"
    },
    "tags": []
   },
   "outputs": [
    {
     "data": {
      "text/plain": [
       "array([[8666,   14],\n",
       "       [ 106, 5088]])"
      ]
     },
     "execution_count": 8,
     "metadata": {},
     "output_type": "execute_result"
    }
   ],
   "source": [
    "# import the metrics class\n",
    "from sklearn import metrics\n",
    "\n",
    "cnf_matrix = metrics.confusion_matrix(y_test, y_pred)\n",
    "cnf_matrix"
   ]
  },
  {
   "cell_type": "code",
   "execution_count": 9,
   "id": "4be03929",
   "metadata": {
    "execution": {
     "iopub.execute_input": "2024-01-11T12:39:13.087009Z",
     "iopub.status.busy": "2024-01-11T12:39:13.086599Z",
     "iopub.status.idle": "2024-01-11T12:39:13.121248Z",
     "shell.execute_reply": "2024-01-11T12:39:13.119751Z"
    },
    "papermill": {
     "duration": 0.045759,
     "end_time": "2024-01-11T12:39:13.123877",
     "exception": false,
     "start_time": "2024-01-11T12:39:13.078118",
     "status": "completed"
    },
    "tags": []
   },
   "outputs": [
    {
     "data": {
      "text/html": [
       "<div>\n",
       "<style scoped>\n",
       "    .dataframe tbody tr th:only-of-type {\n",
       "        vertical-align: middle;\n",
       "    }\n",
       "\n",
       "    .dataframe tbody tr th {\n",
       "        vertical-align: top;\n",
       "    }\n",
       "\n",
       "    .dataframe thead th {\n",
       "        text-align: right;\n",
       "    }\n",
       "</style>\n",
       "<table border=\"1\" class=\"dataframe\">\n",
       "  <thead>\n",
       "    <tr style=\"text-align: right;\">\n",
       "      <th>col_0</th>\n",
       "      <th>0</th>\n",
       "      <th>1</th>\n",
       "    </tr>\n",
       "    <tr>\n",
       "      <th>generated</th>\n",
       "      <th></th>\n",
       "      <th></th>\n",
       "    </tr>\n",
       "  </thead>\n",
       "  <tbody>\n",
       "    <tr>\n",
       "      <th>0</th>\n",
       "      <td>8666</td>\n",
       "      <td>14</td>\n",
       "    </tr>\n",
       "    <tr>\n",
       "      <th>1</th>\n",
       "      <td>106</td>\n",
       "      <td>5088</td>\n",
       "    </tr>\n",
       "  </tbody>\n",
       "</table>\n",
       "</div>"
      ],
      "text/plain": [
       "col_0         0     1\n",
       "generated            \n",
       "0          8666    14\n",
       "1           106  5088"
      ]
     },
     "execution_count": 9,
     "metadata": {},
     "output_type": "execute_result"
    }
   ],
   "source": [
    "pd.crosstab(y_test,y_pred)"
   ]
  },
  {
   "cell_type": "code",
   "execution_count": 10,
   "id": "d988e953",
   "metadata": {
    "execution": {
     "iopub.execute_input": "2024-01-11T12:39:13.140570Z",
     "iopub.status.busy": "2024-01-11T12:39:13.139535Z",
     "iopub.status.idle": "2024-01-11T12:39:13.239690Z",
     "shell.execute_reply": "2024-01-11T12:39:13.238290Z"
    },
    "papermill": {
     "duration": 0.111447,
     "end_time": "2024-01-11T12:39:13.242791",
     "exception": false,
     "start_time": "2024-01-11T12:39:13.131344",
     "status": "completed"
    },
    "tags": []
   },
   "outputs": [
    {
     "name": "stdout",
     "output_type": "stream",
     "text": [
      "Feature Coefficients:\n",
      "           Feature  Coefficient\n",
      "6647      because    -8.702247\n",
      "57825         the    -6.564556\n",
      "62243        very    -5.643606\n",
      "35716        many    -4.768917\n",
      "64270       would    -4.580070\n",
      "...           ...          ...\n",
      "12638  conclusion     4.708634\n",
      "44261   potential     4.832634\n",
      "3657          and     5.393730\n",
      "30053   important     5.975801\n",
      "46793          re     6.826959\n",
      "\n",
      "[64832 rows x 2 columns]\n"
     ]
    }
   ],
   "source": [
    "feature_coefficients = logistic_regression_model.coef_[0]\n",
    "\n",
    "# Get feature names \n",
    "feature_names = tfidf_vectorizer.get_feature_names_out()\n",
    "\n",
    "# Create a DataFrame to display feature names and their coefficients\n",
    "feature_coefficients_df = pd.DataFrame({'Feature': feature_names, 'Coefficient': feature_coefficients})\n",
    "\n",
    "# Sort the DataFrame by coefficients in descending order\n",
    "feature_coefficients_df = feature_coefficients_df.sort_values(by='Coefficient', ascending=False)\n",
    "\n",
    "# Print the feature coefficients DataFrame\n",
    "print(\"Feature Coefficients:\\n\", feature_coefficients_df[::-1])\n"
   ]
  },
  {
   "cell_type": "code",
   "execution_count": 11,
   "id": "574f7c3c",
   "metadata": {
    "execution": {
     "iopub.execute_input": "2024-01-11T12:39:13.258667Z",
     "iopub.status.busy": "2024-01-11T12:39:13.258190Z",
     "iopub.status.idle": "2024-01-11T12:39:13.633927Z",
     "shell.execute_reply": "2024-01-11T12:39:13.632603Z"
    },
    "papermill": {
     "duration": 0.386993,
     "end_time": "2024-01-11T12:39:13.636709",
     "exception": false,
     "start_time": "2024-01-11T12:39:13.249716",
     "status": "completed"
    },
    "tags": []
   },
   "outputs": [
    {
     "name": "stdout",
     "output_type": "stream",
     "text": [
      "ROC AUC Score: 0.99\n"
     ]
    },
    {
     "data": {
      "image/png": "[encoded data removed]",
      "text/plain": [
       "<Figure size 640x480 with 1 Axes>"
      ]
     },
     "metadata": {},
     "output_type": "display_data"
    }
   ],
   "source": [
    "\n",
    "# Calculate ROC AUC score\n",
    "auc_score = roc_auc_score(y_test, y_pred)\n",
    "print(f'ROC AUC Score: {auc_score:.2f}')\n",
    "\n",
    "# Plot ROC curve\n",
    "fpr, tpr, _ = roc_curve(y_test, y_pred)\n",
    "plt.plot(fpr, tpr, label=f'ROC Curve (AUC = {auc_score:.2f})')\n",
    "plt.plot([0, 1], [0, 1], linestyle='--', color='gray', label='Random Guessing')\n",
    "plt.xlabel('False Positive Rate')\n",
    "plt.ylabel('True Positive Rate (Recall)')\n",
    "plt.title('Receiver Operating Characteristic (ROC) Curve')\n",
    "plt.legend()\n",
    "plt.show()\n"
   ]
  },
  {
   "cell_type": "code",
   "execution_count": 12,
   "id": "65783cb9",
   "metadata": {
    "execution": {
     "iopub.execute_input": "2024-01-11T12:39:13.654621Z",
     "iopub.status.busy": "2024-01-11T12:39:13.654120Z",
     "iopub.status.idle": "2024-01-11T12:39:13.667201Z",
     "shell.execute_reply": "2024-01-11T12:39:13.665605Z"
    },
    "papermill": {
     "duration": 0.026108,
     "end_time": "2024-01-11T12:39:13.670603",
     "exception": false,
     "start_time": "2024-01-11T12:39:13.644495",
     "status": "completed"
    },
    "tags": []
   },
   "outputs": [
    {
     "data": {
      "text/plain": [
       "array([0.9241888, 0.9262279, 0.9262279])"
      ]
     },
     "execution_count": 12,
     "metadata": {},
     "output_type": "execute_result"
    }
   ],
   "source": [
    "t=df_test_essay['text']\n",
    "tfidf_test1 = tfidf_vectorizer.transform(t)\n",
    "y_pred = logistic_regression_model.predict_proba(tfidf_test1)[:, 1]\n",
    "#[:,1] prints only probability for predicted class\n",
    "y_pred"
   ]
  },
  {
   "cell_type": "code",
   "execution_count": 13,
   "id": "861e1e0c",
   "metadata": {
    "execution": {
     "iopub.execute_input": "2024-01-11T12:39:13.689116Z",
     "iopub.status.busy": "2024-01-11T12:39:13.688666Z",
     "iopub.status.idle": "2024-01-11T12:39:13.703278Z",
     "shell.execute_reply": "2024-01-11T12:39:13.701642Z"
    },
    "papermill": {
     "duration": 0.027521,
     "end_time": "2024-01-11T12:39:13.706080",
     "exception": false,
     "start_time": "2024-01-11T12:39:13.678559",
     "status": "completed"
    },
    "tags": []
   },
   "outputs": [
    {
     "name": "stdout",
     "output_type": "stream",
     "text": [
      "generated: [0.00289263 0.00543387 0.97647596 0.08880471 0.35385631]\n"
     ]
    }
   ],
   "source": [
    "prob_pred = logistic_regression_model.predict_proba(X_test_tfidf)[:, 1]\n",
    "print(\"generated:\",prob_pred[:5])"
   ]
  },
  {
   "cell_type": "code",
   "execution_count": 14,
   "id": "1a1b24b3",
   "metadata": {
    "execution": {
     "iopub.execute_input": "2024-01-11T12:39:13.725176Z",
     "iopub.status.busy": "2024-01-11T12:39:13.724750Z",
     "iopub.status.idle": "2024-01-11T12:39:13.739777Z",
     "shell.execute_reply": "2024-01-11T12:39:13.738702Z"
    },
    "papermill": {
     "duration": 0.027152,
     "end_time": "2024-01-11T12:39:13.742250",
     "exception": false,
     "start_time": "2024-01-11T12:39:13.715098",
     "status": "completed"
    },
    "tags": []
   },
   "outputs": [
    {
     "data": {
      "text/html": [
       "<div>\n",
       "<style scoped>\n",
       "    .dataframe tbody tr th:only-of-type {\n",
       "        vertical-align: middle;\n",
       "    }\n",
       "\n",
       "    .dataframe tbody tr th {\n",
       "        vertical-align: top;\n",
       "    }\n",
       "\n",
       "    .dataframe thead th {\n",
       "        text-align: right;\n",
       "    }\n",
       "</style>\n",
       "<table border=\"1\" class=\"dataframe\">\n",
       "  <thead>\n",
       "    <tr style=\"text-align: right;\">\n",
       "      <th></th>\n",
       "      <th>id</th>\n",
       "      <th>generated</th>\n",
       "    </tr>\n",
       "  </thead>\n",
       "  <tbody>\n",
       "    <tr>\n",
       "      <th>0</th>\n",
       "      <td>0000aaaa</td>\n",
       "      <td>0.924189</td>\n",
       "    </tr>\n",
       "    <tr>\n",
       "      <th>1</th>\n",
       "      <td>1111bbbb</td>\n",
       "      <td>0.926228</td>\n",
       "    </tr>\n",
       "    <tr>\n",
       "      <th>2</th>\n",
       "      <td>2222cccc</td>\n",
       "      <td>0.926228</td>\n",
       "    </tr>\n",
       "  </tbody>\n",
       "</table>\n",
       "</div>"
      ],
      "text/plain": [
       "         id  generated\n",
       "0  0000aaaa   0.924189\n",
       "1  1111bbbb   0.926228\n",
       "2  2222cccc   0.926228"
      ]
     },
     "execution_count": 14,
     "metadata": {},
     "output_type": "execute_result"
    }
   ],
   "source": [
    "submission_data = {'id': df_test_essay['id'], 'generated': y_pred}\n",
    "submission = pd.DataFrame(submission_data)\n",
    "\n",
    "# Save the DataFrame to a CSV file\n",
    "submission.to_csv('submission.csv', index=False)\n",
    "submission\n",
    "\n"
   ]
  }
 ],
 "metadata": {
  "kaggle": {
   "accelerator": "none",
   "dataSources": [
    {
     "databundleVersionId": 6888007,
     "sourceId": 61542,
     "sourceType": "competition"
    },
    {
     "datasetId": 4232221,
     "sourceId": 7296384,
     "sourceType": "datasetVersion"
    },
    {
     "datasetId": 4005256,
     "sourceId": 6977472,
     "sourceType": "datasetVersion"
    }
   ],
   "dockerImageVersionId": 30626,
   "isGpuEnabled": false,
   "isInternetEnabled": false,
   "language": "python",
   "sourceType": "notebook"
  },
  "kernelspec": {
   "display_name": "Python 3",
   "language": "python",
   "name": "python3"
  },
  "language_info": {
   "codemirror_mode": {
    "name": "ipython",
    "version": 3
   },
   "file_extension": ".py",
   "mimetype": "text/x-python",
   "name": "python",
   "nbconvert_exporter": "python",
   "pygments_lexer": "ipython3",
   "version": "3.10.12"
  },
  "papermill": {
   "default_parameters": {},
   "duration": 39.01209,
   "end_time": "2024-01-11T12:39:14.472611",
   "environment_variables": {},
   "exception": null,
   "input_path": "__notebook__.ipynb",
   "output_path": "__notebook__.ipynb",
   "parameters": {},
   "start_time": "2024-01-11T12:38:35.460521",
   "version": "2.4.0"
  }
 },
 "nbformat": 4,
 "nbformat_minor": 5
}
